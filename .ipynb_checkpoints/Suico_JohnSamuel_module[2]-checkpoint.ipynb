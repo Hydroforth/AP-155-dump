{
 "cells": [
  {
   "cell_type": "markdown",
   "metadata": {
    "colab_type": "text",
    "id": "G0BcK0H_G1Iu"
   },
   "source": [
    "# **AP155 Lab Assignment** \n",
    "## Module 2: Integrals and Derivatives\n",
    "\n",
    "_Instructions_: Answer each problem as completely as you can. Discuss **all** your answers as clearly and concisely as possible. \n",
    "\n",
    "_Scoring Criteria_: 50% - *correctness of code*; 50% - *discussion of the code and results*. Maximum score is **100 points** (Problems 1 to 5 are worth 20, 20, 10, 30, and 20 points, respectively).\n",
    "\n",
    "_Due Date_: **5PM of October 8 (Thu)**\n",
    "\n"
   ]
  },
  {
   "cell_type": "markdown",
   "metadata": {
    "colab_type": "text",
    "id": "PeHZ9kP8JaVR"
   },
   "source": [
    "### Student Information \n",
    "\n",
    "_Full Name (Last Name, First Name)_: Suico, John Samuel O. <br>\n",
    "_Student No._: 2018-05897 <br>\n",
    "_Section_: WFU-2"
   ]
  },
  {
   "cell_type": "markdown",
   "metadata": {
    "colab_type": "text",
    "id": "Hc183co-J4eI"
   },
   "source": [
    "### Submission Information\n",
    "\n",
    "_Date and Time Submitted (most recent upload)_: October 9, 2020 9:00 PM\n",
    "\n",
    "**HONOR PLEDGE** I affirm that I have upheld the highest principles of honesty and integrity in my academic work and that this lab assignment is my own work.\n",
    "\n",
    "**Sign here with your full name:** John Samuel O. Suico"
   ]
  },
  {
   "cell_type": "markdown",
   "metadata": {
    "colab_type": "text",
    "id": "X1UGsRpW-eQs"
   },
   "source": [
    "### Grading Information (c/o Lab Instructor)\n",
    "\n",
    "TOTAL SCORE: **XX**/100\n",
    "\n",
    "Score breakdown:\n",
    "* Problem 1 - XX/20\n",
    "* Problem 2 - XX/20\n",
    "* Problem 3 - XX/10\n",
    "* Problem 4 - XX/30\n",
    "* Problem 5 - XX/20\n",
    "\n",
    "_Date and Time Scored (MM/DD/YYYY HH:MM AM/PM):_ "
   ]
  },
  {
   "cell_type": "markdown",
   "metadata": {
    "colab_type": "text",
    "id": "LxWuqiCFMsEh"
   },
   "source": [
    "### PROBLEM 1 (20 pts.) \n",
    "**Integration using the trapezoidal rule and Simpson's rule**\n",
    "\n",
    "Calculate the integral of the function $ 2x^4 + 3x^2 + 4x + 5$ from $x=0$ to $x=5$.\n",
    "\n",
    "1. Do the numerical calculation using the trapezoidal rule with 10, 100, and 1,000 slices. Describe each step of the calculation clearly and concisely. *(8 pts.; 4 pts. for the code & 4 pts. for the discussion text)*\n",
    "\n",
    "2. What are the percentage errors of your answers in (1)? *(2 pts.)*\n",
    "\n",
    "3. Repeat the calculation using Simpson's rule with 10, 100, and 1,000 slices. Describe each step of the calculation clearly and concisely. *(8 pts.;  4 pts. for the code & 4 pts. for the discussion text)*\n",
    "\n",
    "4. What are the percentage errors of your answers in (3)? How do they compare with the results from (1) for the same number of slices? *(2 pts.)*"
   ]
  },
  {
   "cell_type": "markdown",
   "metadata": {},
   "source": [
    "1. Here I've defined a function `intTR` which calculates the integral of a mathematical function using the trapezoidal rule. The trapezoidal rule calculates the integral by approximating the area under the curve using trapezoids.\n",
    "   \n",
    "   I first create the function `function1` to represent the integrand. This returns the value of the mathematical function above for an argument x.\n",
    "   \n",
    "   I then created the function `intTR` with the parameters `lowerB`, `upperB`, `N`, `function`, and `adaptive` (i.e. with a default value of `False`). The `lowerB` and `upperB` parameters stand in for the lower and upper bounds of integration, respectively. The `N` parameter represents the number of slices for a given range `lowerB` to `upperB`. The `function` parameter stands in for the integrand. The `adaptive` parameter (i.e. which is not used in this example) is a boolean parameter used to increase the reusability of the `intTR` function for the adaptive trapezoidal rule.\n",
    "   \n",
    "   The integral is calculated using the trapezoidal rule via the equation\n",
    "   $$I(a,b) = h \\left[ \\frac{1}{2}f(a) + \\frac{1}{2}f(b) + \\sum_{k=\\text{odd} \\\\ 1...N-2} f(a+kh) + \\sum_{k=\\text{even} \\\\ 2...N-2} f(a+kh)\\right]$$\n",
    "    \n",
    "    , where $h = \\frac{b-a}{N}$. In the function `intTR`, $a$ and $b$ are replaced by `lowerB` and `upperB` (respectively), and $h$ is replaced by `width`. The summation terms with odd and even $k$ are calculated using for loops and assigned to the variables `oddSum` and `evenSum`, respectively. <sub>[1]</sub>\n",
    "    \n",
    "    The terms are then added up to the variable `riemannSum` to calculate the full value of the integral. The variable `riemannSum` is then returned.\n",
    "    \n",
    "    I then proceed to calculate the integral using the function `intTR` for 10<sub>[2]</sub>, 100 and 1,000 slices, and print out my results.\n",
    "    \n",
    "    <sub> [1] It is useful to calculate the trapezoidal rule this way so that the `oddSum` can be returned when calculating using the adaptive trapezoidal rule.</sub>"
   ]
  },
  {
   "cell_type": "code",
   "execution_count": 1,
   "metadata": {
    "colab": {},
    "colab_type": "code",
    "id": "hMqWOsbIMoUh",
    "scrolled": false
   },
   "outputs": [
    {
     "name": "stdout",
     "output_type": "stream",
     "text": [
      "Integral using Trapezoidal Rule for 10 slices: 1471.4375\n",
      "Integral using Trapezoidal Rule for 100 slices: 1450.2145812500003\n",
      "Integral using Trapezoidal Rule for 1000 slices: 1450.0021458331257\n"
     ]
    }
   ],
   "source": [
    "from numpy import abs\n",
    "\n",
    "def function1(x):\n",
    "    y = 2*x**4 + 3*x**2 + 4*x + 5\n",
    "    return y\n",
    "\n",
    "def intTR(lowerB,upperB,N,function,adaptive = False):\n",
    "    width = (upperB - lowerB)/N\n",
    "    riemannSum, oddSum, evenSum = 0,0,0\n",
    "    \n",
    "    for k in range(1,N,2):\n",
    "        oddSum += function(lowerB + k*width)\n",
    "    if(adaptive == True):\n",
    "        return width*oddSum\n",
    "    else:\n",
    "        for k in range(2,N,2):\n",
    "            evenSum += function(lowerB + k*width)\n",
    "        riemannSum = width*(0.5*(function(lowerB) + function(upperB)) + oddSum + evenSum)\n",
    "        return riemannSum\n",
    "\n",
    "    \n",
    "print(\"Integral using Trapezoidal Rule for 10 slices:\", intTR(0,5,10,function1))\n",
    "print(\"Integral using Trapezoidal Rule for 100 slices:\", intTR(0,5,100,function1))\n",
    "print(\"Integral using Trapezoidal Rule for 1000 slices:\", intTR(0,5,1000,function1))"
   ]
  },
  {
   "cell_type": "markdown",
   "metadata": {},
   "source": [
    "2. Here I've defined the function `percentError` which returns the percentage error given the arguments `Exp` for the experimental value and `Theo` for the actual value. \n",
    "\n",
    "    I first calculate the value of the integral analyticaly by hand to be $1450$. I then check the percentage error of the integral calculated using the trapezoidal rule via my `percentError` function for 10, 100 and 1,000 slices and print out my results."
   ]
  },
  {
   "cell_type": "code",
   "execution_count": 2,
   "metadata": {},
   "outputs": [
    {
     "name": "stdout",
     "output_type": "stream",
     "text": [
      "Percentage error of Trapezoidal Rule for 10 slices: 1.478448275862069\n",
      "Percentage error of Trapezoidal Rule for 100 slices: 0.014798706896569988\n",
      "Percentage error of Trapezoidal Rule for 1000 slices: 0.0001479884914292127\n"
     ]
    }
   ],
   "source": [
    "def percentError(Exp,Theo):\n",
    "    return abs((Exp-Theo)/Theo)*100\n",
    "\n",
    "#calculate theoretical value by hand\n",
    "print(\"Percentage error of Trapezoidal Rule for 10 slices:\", percentError(intTR(0,5,10,function1), 1450))\n",
    "print(\"Percentage error of Trapezoidal Rule for 100 slices:\", percentError(intTR(0,5,100,function1), 1450))\n",
    "print(\"Percentage error of Trapezoidal Rule for 1000 slices:\", percentError(intTR(0,5,1000,function1), 1450))"
   ]
  },
  {
   "cell_type": "markdown",
   "metadata": {},
   "source": [
    "3. Here I've defined a function `intSR` which calculates the integral of a mathematical function using Simpson's rule. Simpson's rule calculates the integral by approximating the curve using quadratics and then  calculating the area under the quadratics.\n",
    "   \n",
    "   The `intSR` function has the parameters `lowerB`, `upperB`, `N`, and `function`. The `lowerB` and `upperB` parameters stand in for the lower and upper bounds of integration, respectively. The `N` parameter represents the number of slices for a given range `lowerB` to `upperB`. The `function` parameter stands in for the integrand.\n",
    "   \n",
    "   The integral is calculated using Simpson's rule via the equation\n",
    "   $$I(a,b) \\approx \\frac{1}{3}h \\left[ f(a) + f(b) + 4\\sum_{k=odd \\\\ 1...N-2} f(a+kh) + 2\\sum_{k=even \\\\ 2...N-2} f(a+kh)\\right]$$\n",
    "    \n",
    "    , where $h = \\frac{b-a}{N}$. In the function `intSR`, $a$ and $b$ are replaced by `lowerB` and `upperB` (respectively), and $h$ is replaced by `width`. The summation terms with odd and even $k$ are calculated using for loops and assigned to the variables `oddSum` and `evenSum`, respectively.\n",
    "    \n",
    "    The terms are then added up to the variable `riemannSum` to calculate the full value of the integral using the trapezoidal rule. The variable `riemannSum` is then returned.\n",
    "    \n",
    "    I then proceed to calculate the integral using the function `intSR` for 10, 100 and 1,000 slices, and print out my results.\n",
    "    "
   ]
  },
  {
   "cell_type": "code",
   "execution_count": 3,
   "metadata": {},
   "outputs": [
    {
     "name": "stdout",
     "output_type": "stream",
     "text": [
      "Integral using Simpson's Rule for 10 slices: 1450.0833333333333\n",
      "Integral using Simpson's Rule for 100 slices: 1450.0000083333337\n",
      "Integral using Simpson's Rule for 1000 slices: 1450.0000000008342\n"
     ]
    }
   ],
   "source": [
    "def intSR(lowerB,upperB,N,function):\n",
    "    width = (upperB-lowerB)/N\n",
    "    riemannSum, oddSum, evenSum = 0,0,0\n",
    "    for k in range(1,N,2):\n",
    "        oddSum += function(lowerB + k*width)\n",
    "    for k in range(2,N-1,2):\n",
    "        evenSum += function(lowerB + k*width)\n",
    "    riemannSum = (3**-1)*width*( function(lowerB) + function(upperB) + 4*oddSum + 2*evenSum )\n",
    "    return riemannSum\n",
    "    \n",
    "print(\"Integral using Simpson's Rule for 10 slices:\", intSR(0,5,10,function1))\n",
    "print(\"Integral using Simpson's Rule for 100 slices:\", intSR(0,5,100,function1))\n",
    "print(\"Integral using Simpson's Rule for 1000 slices:\", intSR(0,5,1000,function1))"
   ]
  },
  {
   "cell_type": "markdown",
   "metadata": {},
   "source": [
    "4. Here, I check the percentage error of the integral calculated using Simpson's rule via my `percentError` function for 10, 100 and 1,000 slices and print out my results. (Actual value = $1450$)"
   ]
  },
  {
   "cell_type": "code",
   "execution_count": 4,
   "metadata": {},
   "outputs": [
    {
     "name": "stdout",
     "output_type": "stream",
     "text": [
      "Percentage error of Simpson's Rule for 10 slices: 0.005747126436776382\n",
      "Percentage error of Simpson's Rule for 100 slices: 5.747126657485657e-07\n",
      "Percentage error of Simpson's Rule for 1000 slices: 5.753338035870472e-11\n"
     ]
    }
   ],
   "source": [
    "def percentError(Exp,Theo):\n",
    "    return abs((Exp-Theo)/Theo)*100\n",
    "\n",
    "#calculate theoretical value by hand\n",
    "print(\"Percentage error of Simpson's Rule for 10 slices:\", percentError(intSR(0,5,10,function1), 1450))\n",
    "print(\"Percentage error of Simpson's Rule for 100 slices:\", percentError(intSR(0,5,100,function1), 1450))\n",
    "print(\"Percentage error of Simpson's Rule for 1000 slices:\", percentError(intSR(0,5,1000,function1), 1450))"
   ]
  },
  {
   "cell_type": "markdown",
   "metadata": {
    "colab_type": "text",
    "id": "kBX9EyMLOnXj"
   },
   "source": [
    "### PROBLEM 2 (20 pts.)\n",
    "\n",
    "**Integration using the adaptive trapezoidal rule method and Romberg integration**\n",
    "\n",
    "Calculate the integral $ I = \\int_0^1 \\sin^2 \\sqrt{100x} \\mbox{d}x $.\n",
    "\n",
    "1. Do the numerical calculation using the adaptive trapezoidal rule method to an approximate accuracy of $\\epsilon = 10^{-6}$. Start with one single integration slice and work up from there to two, four, eight, and so forth. Save and print out the number of slices, its estimate of the integral, and its estimate of the error on the integral, for each value of the number of slices $N$, until the target accuracy is reached. *(8 pts.; 4 pts. for the code & 4 pts. for the discussion text)*\n",
    "\n",
    "2. Repeat the calculation using the Romberg integration technique. Save and print out the same variables as in (1). *(8 pts.; 4 pts. for the code & 4 pts. for the discussion text)*\n",
    "\n",
    "3. Compare the results from both calculations by creating a plot of error estimates vs. $N$. Annotate your chart completely (include proper axis labels and legend). Describe how the trends for the two techniques compare. *(4 pts.; 2 pts. for the chart & 2 pts. for the discussion text)*"
   ]
  },
  {
   "cell_type": "markdown",
   "metadata": {},
   "source": [
    "1. Here, I've defined a class called `aintTR` with class methods used to calculate the integral using the adaptive trapezoidal rule. The class has the instance variables `lowerB`, `upperB`, `function`, `accuracy`, `I_list`, and `error_list`. The variables `lowerB` and `upperB` represent the lower and upper bounds of integration, respectively. The `function` variable stands in for the integrand. The `accuracy` variable stands in for the accuracy we are aiming for when calculating using the adaptive trapezoidal rule. The `I_list` and `error_list` variables keep track of the integral estimates and error values, which will be useful for graphing Error vs N slices.\n",
    "\n",
    "    The adaptive trapezoidal rule calculates the $i$th estimate of the integral via the equation $$ I_i = \\frac{1}{2}I_{i-1} + h_i \\sum_{k=\\text{odd} \\\\ 1...N-2} f(a+kh_i) $$\n",
    "    , with the first integral estimate $I_1$ being calculated by the normal trapezoidal rule (which has already been coded in Problem #1.1). Each subsequent calculation $I_i$ doubles the number of slices `N` and makes use of the fact that the previous integral estimates are already embedded in the integral estimate of the doubled `N`, and we only have to account for the summation term with odd $k$. This is done by calling the same function `intTR` in Problem #1.1 but with the `adaptive` argument set to`True`, which then returns the second term in the RHS of the equation above (of course, we are also doubling the value of `N` with each subsequent calculation of $I_i$). Each estimate of $I_i$ also has an associated error $\\epsilon_i$ inherent within the trapezoidal rule, and this error is calculated using a practical equation with respect to the previous estimate $I_{i-1}$ $$ \\epsilon_i = \\frac{1}{3}(I_i - I_{i-1})$$\n",
    "    As such, we will only be calculating errors associated with the 2nd and above integral estimates (i.e. $i$>2).\n",
    "    \n",
    "    I've also defined a new function `function2` to return the value of the new integrand given above per argument `x`. This is the new function we pass on to the `aintTR`'s `function` parameter.\n",
    "    \n",
    "    <h3>aintTR Class Methods</h3>\n",
    "    \n",
    "    I'll first be explaining the `approximate` function which calculates the integral to a desired accuracy set by the `accuracy` instance variable. Firstly, we reset the instance variables `I_list` and `error_list` to make sure that we are getting freshly calculated integral estimates and error values, respectively. Afterwards, we calculate the first integral estimate `I_current` using the function defined in Problem #1.1 `intTR` and append the value of `I_current` to `I_list`. We then check for the error of the 2nd integral estimate <b>without</b> explicitly doubling our function variable `N`. If the error for the `2nd integral` is less than the target accuracy value, then `I_current` is probably a good estimate for your integral.<sub>[1]</sub> \n",
    "    \n",
    "    The error is checked using the `erroraTR` function, which takes the arguments `I_prev` and `I_current` as the previous and current estimates of the integral, and then calculates the value using the equation for $\\epsilon$ given above.\n",
    "    \n",
    "    If our value `I_1` is not good enough, then the program goes through the `while` loops with the condition that `error` is greater than the instance variable `accuracy`. This will then proceed to calculate and store the next integral estimates and errors<sub>[2]</sub> using the equations above, until `error` which is the error associated for the current estimate $I_i$ is less than the target accuracy given by the instance variable `accuracy`.\n",
    "    \n",
    "    Lastly, the `output` function just prints out each calculated integral and their associated error (only $I_1$ has no associated error since it cannot be calculated using the equation above). This is done by using a string variable `myString` and looping  through the lists `I_list` and `error_list`.\n",
    "    \n",
    "    <sub>[1] This was really only done to account for line polynomials. In such a case, the trapezoidal function will be able to perfectly/almost perfectly calculate the integral at the first try using the normal trapezoidal rule.</sub>\n",
    "    \n",
    "    <sub>[2] Each integral estimate is saved to `I_list` and each error is saved to `error_list`.</sub>\n",
    "    \n",
    "    I then create an instance of the class `aintTR` named `myaintTR` with the arguments `0`, `1`, `function2` and `10**-6`, and then call the functions `approximate` and `output`."
   ]
  },
  {
   "cell_type": "code",
   "execution_count": 5,
   "metadata": {
    "colab": {},
    "colab_type": "code",
    "id": "GABjwlXCR97i",
    "scrolled": false
   },
   "outputs": [
    {
     "name": "stdout",
     "output_type": "stream",
     "text": [
      "Adaptive Trapezoidal Rule for 1 slice(s): 0.147979484546652\n",
      "Adaptive Trapezoidal Rule for 2 slice(s): 0.3252319078064746 ; Error = 0.05908414108660753\n",
      "Adaptive Trapezoidal Rule for 4 slice(s): 0.5122828507233315 ; Error = 0.06235031430561895\n",
      "Adaptive Trapezoidal Rule for 8 slice(s): 0.4029974484782483 ; Error = 0.03642846741502771\n",
      "Adaptive Trapezoidal Rule for 16 slice(s): 0.43010336929474696 ; Error = 0.009035306938832883\n",
      "Adaptive Trapezoidal Rule for 32 slice(s): 0.4484146657874699 ; Error = 0.0061037654975743165\n",
      "Adaptive Trapezoidal Rule for 64 slice(s): 0.4539129312153758 ; Error = 0.001832755142635293\n",
      "Adaptive Trapezoidal Rule for 128 slice(s): 0.45534850437280205 ; Error = 0.000478524385808754\n",
      "Adaptive Trapezoidal Rule for 256 slice(s): 0.455711266453241 ; Error = 0.00012092069347964991\n",
      "Adaptive Trapezoidal Rule for 512 slice(s): 0.45580219965166413 ; Error = 3.0311066141042176e-05\n",
      "Adaptive Trapezoidal Rule for 1024 slice(s): 0.45582494813241997 ; Error = 7.582826918613635e-06\n",
      "Adaptive Trapezoidal Rule for 2048 slice(s): 0.4558306362016466 ; Error = 1.8960230755427077e-06\n",
      "Adaptive Trapezoidal Rule for 4096 slice(s): 0.455832058278271 ; Error = 4.7402554146739695e-07\n"
     ]
    }
   ],
   "source": [
    "from numpy import sin,sqrt, inf\n",
    "\n",
    "def function2(x):\n",
    "    y = sin(sqrt(100*x))**2\n",
    "    return y\n",
    "\n",
    "class aintTR:\n",
    "    def __init__(self, lowerB, upperB, function, accuracy):\n",
    "        self.lowerB = lowerB\n",
    "        self.upperB = upperB\n",
    "        self.function = function\n",
    "        self.accuracy = accuracy\n",
    "        self.I_list = []\n",
    "        self.error_list = []\n",
    "    \n",
    "    def erroraTR(self, I_prev, I_current):\n",
    "        return abs((3**-1)*(I_current - I_prev))\n",
    "    \n",
    "    def approximate(self):\n",
    "        #reset I_list and error_list\n",
    "        self.I_list = []\n",
    "        self.error_list = []\n",
    "        \n",
    "        #first integral\n",
    "        N = 1\n",
    "        I_current = intTR(self.lowerB,self.upperB,N,self.function)\n",
    "        self.I_list.append(I_current)\n",
    "        \n",
    "        #error check for second integral\n",
    "        error = self.erroraTR(I_current, intTR(self.lowerB,self.upperB,N*2,self.function))\n",
    "        \n",
    "        while(error>self.accuracy):\n",
    "            N *= 2\n",
    "            I_prev = I_current\n",
    "            I_current = 0.5*I_current+intTR(self.lowerB,self.upperB,N,self.function,True)\n",
    "            self.I_list.append(I_current)\n",
    "            error = self.erroraTR(I_prev,I_current)\n",
    "            self.error_list.append(error)\n",
    "    \n",
    "    def output(self):\n",
    "        looplimit = len(self.I_list)\n",
    "        N = 1\n",
    "        for i in range(0,looplimit):\n",
    "            myString = \"Adaptive Trapezoidal Rule for \" + str(N) + \" slice(s): \" + str(self.I_list[i])\n",
    "            if i > 0:\n",
    "                myString = myString + \" ; Error = \"  + str(self.error_list[i-1])\n",
    "            N *= 2\n",
    "            print(myString)\n",
    "\n",
    "myaintTR = aintTR(0,1,function2,10**-6)\n",
    "myaintTR.approximate()\n",
    "myaintTR.output()"
   ]
  },
  {
   "cell_type": "markdown",
   "metadata": {},
   "source": [
    "2. Here I've defined a class called `intRI` with class methods used to calculate the integral of a function using the Romberg integration method. The class has the instance variables `lowerB`, `upperB`, `function`, and `accuracy`. The variables `lowerB` and `upperB` represent the lower and upper bounds of integration, respectively. The `function` variable stands in for the integrand. The `accuracy` variable stands in for the accuracy we are aiming for when calculating using the Romberg integration method. The `I_list` and `error_list` variables keep track of the integral estimates and error values, which will be useful for graphing Error vs N slices.\n",
    "\n",
    "    The Romberg integration method is summarized in this diagram (taken from Newman):\n",
    "    \n",
    "    <img src = \"RImethod.png\" width = \"300\">\n",
    "    \n",
    "    The first entry of each row $\\left(R_{i,1}\\right)$ is calculated using the normal trapezoidal rule (which has already been coded in Problem #1.1). Subsequent integral estimates allow us to calculate values which have been normally been \"shaved off\" by the trapezoidal function, and therefore allow us to get more accurate estimates of the integral. The $i$ in each row's $I_i$ stands for the doubling of `N` slices starting from `N` = 1, and so each row can be thought of having $2^{i-1}$ slices. The next entries $R_{i,m+1}$ in each row are then calculated using the equation\n",
    "    $$R_{i,m+1} = R_{i,m} + \\frac{1}{4^m - 1}\\left( R_{i,m} - R_{i-1,m}\\right)$$\n",
    "    and the error associated with $R_{i,m}$ is\n",
    "    $$\\epsilon = \\frac{1}{4^m - 1}\\left( R_{i,m} - R_{i-1,m}\\right)$$\n",
    "    This also means that each row can only be made more accurate up to $i-1$ times, since it is dependent on the previous row's values. Also, the Romberg integration method does not give the associated error with the last term in each row. Note that we can also rewrite $R_{i,m+1}$ as\n",
    "    $$R_{i,m+1} = R_{i,m} + \\epsilon$$\n",
    "    \n",
    "    <h3>intRI Class Methods</h3>\n",
    "    \n",
    "    I'll first be explaining the `approximate` function which calculates the integral to a desired accuracy set by the `accuracy` instance variable. Firstly, the instance variables `I_list` and `error_list` are reset to ensure that we are storing freshly calculated integral estimates and error values, respectively. Then, we calculate the first integral estimate `I_current` for the first row $I_1$ using the `intTR` function defined in Problem #1.1 and append `I_current` to the list of integral estimates `I_list`. We then check for the error of the 2nd integral estimate <b>without</b> explicitly doubling our function variable `N`. If the error for the `2nd integral` is less than the target accuracy value, then `I_current` is probably a good estimate for your integral.<sub>[1]</sub> \n",
    "    \n",
    "    The error is checked using the `errorRI` function, which takes the arguments `R_a`, `R_b`, and `m` where `R_a` and `R_b` are integral estimates with the same $m$ for which we can calculate the error value using the equation for $\\epsilon$. In the diagram, `R_a` and `R_b` would be in the same column, with `R_b` being the integral estimate with the larger `N`.\n",
    "    \n",
    "    If the absolute value of the error of the 2nd integral estimate is larger than the desired accuracy set by the `accuracy` instance variable, then we will continually loop and calculate further integral estimates and errors<sub>[2]</sub> using the equations above until the desired accuracy is reached.\n",
    "    \n",
    "    Lastly, the `output` function just prints out each calculated integral and their associated error (the last integral estimate per row has no associated error value). This is done by using a string variable `myString` and looping  through the lists `I_list` and `error_list`.\n",
    "    \n",
    "    <sub>[1] Once again, this was really only done to account for line polynomials.</sub>\n",
    "    \n",
    "    <sub>[2] The integral estimates and error values are stored into the instance variables `I_list` and `error_list`</sub>\n",
    "    \n",
    "    I then create an instance of the class `intRI` named `myintRI` with the arguments `0`, `1`, `function2` and `10**-6`, and then call the functions `approximate` and `output`."
   ]
  },
  {
   "cell_type": "code",
   "execution_count": 6,
   "metadata": {
    "scrolled": true
   },
   "outputs": [
    {
     "name": "stdout",
     "output_type": "stream",
     "text": [
      "I_1: Romberg Integration for 1 slice(s): 0.147979484546652\n",
      "I_2: Romberg Integration for 2 slice(s): 0.3252319078064746 ; Error = 0.05908414108660753\n",
      "I_2: Romberg Integration for 2 slice(s): 0.38431604889308213\n",
      "I_3: Romberg Integration for 4 slice(s): 0.5122828507233315 ; Error = 0.06235031430561895\n",
      "I_3: Romberg Integration for 4 slice(s): 0.5746331650289505 ; Error = 0.012687807742391222\n",
      "I_3: Romberg Integration for 4 slice(s): 0.5873209727713417\n",
      "I_4: Romberg Integration for 8 slice(s): 0.40299744847824825 ; Error = -0.036428467415027734\n",
      "I_4: Romberg Integration for 8 slice(s): 0.3665689810632205 ; Error = -0.01387094559771533\n",
      "I_4: Romberg Integration for 8 slice(s): 0.35269803546550516 ; Error = -0.0037241736080291504\n",
      "I_4: Romberg Integration for 8 slice(s): 0.34897386185747603\n",
      "I_5: Romberg Integration for 16 slice(s): 0.4301033692947469 ; Error = 0.009035306938832883\n",
      "I_5: Romberg Integration for 16 slice(s): 0.43913867623357977 ; Error = 0.004837979678023951\n",
      "I_5: Romberg Integration for 16 slice(s): 0.44397665591160373 ; Error = 0.001448866991207914\n",
      "I_5: Romberg Integration for 16 slice(s): 0.4454255229028116 ; Error = 0.0003782418080209239\n",
      "I_5: Romberg Integration for 16 slice(s): 0.44580376471083255\n",
      "I_6: Romberg Integration for 32 slice(s): 0.4484146657874699 ; Error = 0.006103765497574335\n",
      "I_6: Romberg Integration for 32 slice(s): 0.45451843128504427 ; Error = 0.0010253170034309662\n",
      "I_6: Romberg Integration for 32 slice(s): 0.4555437482884752 ; Error = 0.0001836046409027219\n",
      "I_6: Romberg Integration for 32 slice(s): 0.45572735292937794 ; Error = 4.039933343751497e-05\n",
      "I_6: Romberg Integration for 32 slice(s): 0.45576775226281546 ; Error = 9.739968281508223e-06\n",
      "I_6: Romberg Integration for 32 slice(s): 0.455777492231097\n",
      "I_7: Romberg Integration for 64 slice(s): 0.4539129312153758 ; Error = 0.001832755142635293\n",
      "I_7: Romberg Integration for 64 slice(s): 0.4557456863580111 ; Error = 8.181700486445582e-05\n",
      "I_7: Romberg Integration for 64 slice(s): 0.4558275033628756 ; Error = 4.504048800005895e-06\n",
      "I_7: Romberg Integration for 64 slice(s): 0.45583200741167557 ; Error = 4.1040973450050226e-07\n"
     ]
    }
   ],
   "source": [
    "class intRI:\n",
    "    def __init__(self, lowerB, upperB, function, accuracy):\n",
    "        self.lowerB = lowerB\n",
    "        self.upperB = upperB\n",
    "        self.function = function\n",
    "        self.accuracy = accuracy\n",
    "        self.I_list = []\n",
    "        self.error_list = []\n",
    "        \n",
    "    def errorRI(self,R_a,R_b,m):\n",
    "        return ((4**m - 1)**-1)*(R_b-R_a)\n",
    "\n",
    "    def approximate(self):\n",
    "        self.I_list = []\n",
    "        self.error_list = []\n",
    "        #first integral: R_1,1\n",
    "        N = 1\n",
    "        I_current = intTR(self.lowerB, self.upperB, N, self.function)\n",
    "        newList = [I_current]\n",
    "        self.I_list.append(newList)\n",
    "        \n",
    "        I_next = intTR(self.lowerB, self.upperB, N*2, self.function)\n",
    "        \n",
    "        #error check for R_2,1\n",
    "        error = self.errorRI(I_current,I_next,1)\n",
    "              \n",
    "        while(abs(error) > self.accuracy):\n",
    "            N *= 2\n",
    "            #initializing R_i,1\n",
    "            I_first = intTR(self.lowerB,self. upperB, N, self.function)\n",
    "            newList = [I_first]\n",
    "            looplimit = len(self.I_list)\n",
    "            \n",
    "            for m in range(0,looplimit):\n",
    "                error = self.errorRI(self.I_list[looplimit-1][m],newList[m],m+1)\n",
    "                self.error_list.append(error)\n",
    "                if (abs(error) > self.accuracy):\n",
    "                    I_next = newList[m] + error\n",
    "                    newList.append(I_next)\n",
    "                else:\n",
    "                    break\n",
    "            self.I_list.append(newList)\n",
    "\n",
    "    def output(self):\n",
    "        looplimit = len(self.I_list)\n",
    "        erroriterator = 0\n",
    "        N = 1\n",
    "        for i in range (0,looplimit):\n",
    "            newlooplimit = len(self.I_list[i])\n",
    "            for j in range(0,newlooplimit):\n",
    "                myString = \"I_\" + str(i+1) + \": Romberg Integration for \" + str(N) + \" slice(s): \" + str(self.I_list[i][j])\n",
    "                if (j != i):\n",
    "                    myString = myString + \" ; Error = \" + str(self.error_list[erroriterator])\n",
    "                    erroriterator += 1\n",
    "                print(myString)\n",
    "            N *= 2\n",
    "myintRI = intRI(0,1,function2,10**-6)              \n",
    "myintRI.approximate()\n",
    "myintRI.output()\n"
   ]
  },
  {
   "cell_type": "markdown",
   "metadata": {},
   "source": [
    "Compare the results from both calculations by creating a plot of error estimates vs.  𝑁 . Annotate your chart completely (include proper axis labels and legend). Describe how the trends for the two techniques compare\n",
    "\n",
    "3. Here, I've graphed the truncation errors vs N of both the adaptive trapezoidal rule and the Romberg Integration Method in calculating the integral of $$\\int_0^1 \\sin^2 \\sqrt{100x} \\mbox{d}x $$ to an accuracy of $10^{-6}$. I first calculated appropriate $N$'s as x values for the errors calculated in Problem #2.1 and Problem #2.2. I then use the class instance `myaintTR`'s `error_list` as y values for the adaptive trapezoidal rule. For the Romberg Integration Method, I've only included the last truncation errors per $N$ for its y values. "
   ]
  },
  {
   "cell_type": "code",
   "execution_count": 7,
   "metadata": {},
   "outputs": [
    {
     "data": {
      "image/png": "[encoded data removed]",
      "text/plain": [
       "<Figure size 432x288 with 1 Axes>"
      ]
     },
     "metadata": {
      "needs_background": "light"
     },
     "output_type": "display_data"
    }
   ],
   "source": [
    "%matplotlib inline\n",
    "import matplotlib.pyplot as plt\n",
    "from numpy import abs\n",
    "\n",
    "x_N_aintTR = []\n",
    "x_N_intRI = []\n",
    "\n",
    "#calculate x values for the adaptive trapezoidal rule\n",
    "for i in range(1,len(myaintTR.error_list)+1):\n",
    "    x_N_aintTR.append(2**i)\n",
    "\n",
    "#get only the last errors calculated per N in the Romberg integration method\n",
    "y_error_intRI = []\n",
    "erroriterator = 0\n",
    "looplimit = len(myintRI.I_list)\n",
    "for i in range (0,looplimit):\n",
    "    newlooplimit =  len(myintRI.I_list[i])\n",
    "    for j in range(0,newlooplimit):\n",
    "        if (j!=i):\n",
    "            erroriterator += 1\n",
    "        if (j == newlooplimit-1 and j!=0):\n",
    "            y_error_intRI.append(abs(myintRI.error_list[erroriterator-1]))\n",
    "            \n",
    "#calculate x values for the Romberg integration method\n",
    "for i in range(1, len(y_error_intRI) + 1):\n",
    "    x_N_intRI.append(2**i)\n",
    "\n",
    "#create the graph\n",
    "fig = plt.figure()\n",
    "ax = fig.add_subplot(111)\n",
    "\n",
    "#add graph values for Adaptive Trapezoidal Rule\n",
    "ax.scatter(x_N_aintTR, myaintTR.error_list, s = 20,c = 'b', marker = \"s\", label = \"Adaptive Trapezoidal Rule\")\n",
    "ax.plot(x_N_aintTR, myaintTR.error_list, c = 'b')\n",
    "\n",
    "#add graph values for Romberg Integration method\n",
    "ax.scatter(x_N_intRI, y_error_intRI, s = 20, c = 'r', marker = \"o\", label = \"Romberg Integration Method\")\n",
    "ax.plot(x_N_intRI, y_error_intRI, c = 'r')\n",
    "\n",
    "ax.set_xlabel(\"N slices\")\n",
    "ax.set_ylabel(\"|Truncation Error|\")\n",
    "\n",
    "#display graph in log scale\n",
    "plt.yscale('log')\n",
    "plt.xscale('log')\n",
    "plt.legend(loc = 'upper right')\n",
    "plt.title(\"Absolute Value of Truncation Error vs N Slices\")\n",
    "plt.show()"
   ]
  },
  {
   "cell_type": "markdown",
   "metadata": {
    "colab_type": "text",
    "id": "m2a6sg90R-NX"
   },
   "source": [
    "### PROBLEM 3 (10 pts.)\n",
    "\n",
    "**Integration using Gaussian quadrature**\n",
    "\n",
    "Calculate the integral from Problem 1 using the Gaussian quadrature method: $ 2x^4 + 3x^2 + 4x + 5$ from $x=0$ to $x=5$.\n",
    "\n",
    "1. Define the function $\\tt gaussxw$ from Appendix E of the Newman text (and run the cell). *(2 pts.)*\n",
    "\n",
    "2. Calculate the integral using the $\\tt gaussxw$ function in (1) and number of slices $N = 3$. Describe each step in the calculation clearly and concisely. *(8 pts.; 4 pts. for the code & 4 pts. for the discussion text)*"
   ]
  },
  {
   "cell_type": "markdown",
   "metadata": {},
   "source": [
    "1. Here I copy the `gaussxw` function from Appendix E of the Newman text."
   ]
  },
  {
   "cell_type": "code",
   "execution_count": 8,
   "metadata": {
    "colab": {},
    "colab_type": "code",
    "id": "A2vxCvzvVe60"
   },
   "outputs": [],
   "source": [
    "from numpy import ones,copy,cos,tan,pi,linspace\n",
    "\n",
    "def gaussxw(N):\n",
    "    # Initial approximation to roots of the Legendre polynomial\n",
    "    a = linspace(3,4*N-1,N)/(4*N+2)\n",
    "    x = cos(pi*a+1/(8*N*N*tan(a)))\n",
    "\n",
    "    # Find roots using Newton's method\n",
    "    epsilon = 1e-15\n",
    "    delta = 1.0\n",
    "    while delta>epsilon:\n",
    "        p0 = ones(N,float)\n",
    "        p1 = copy(x)\n",
    "        for k in range(1,N):\n",
    "            p0,p1 = p1,((2*k+1)*x*p1-k*p0)/(k+1)\n",
    "        dp = (N+1)*(p0-x*p1)/(1-x*x)\n",
    "        dx = p1/dp\n",
    "        x -= dx\n",
    "        delta = max(abs(dx))\n",
    "\n",
    "    # Calculate the weights\n",
    "    w = 2*(N+1)*(N+1)/(N*N*(1-x*x)*dp*dp)\n",
    "\n",
    "    return x,w"
   ]
  },
  {
   "cell_type": "markdown",
   "metadata": {},
   "source": [
    "2. Here, I copied the `gaussxwab` function and renamed it to `gaussmap`which is found in Appendix E of Newman and maps the calculated weights and x values from the `gaussxw` function to new appropriate weight and x values given a range `a` to `b` and `N` number of slices. I then calculate the integral using the equation $$I(a,b) \\approx \\sum_{k=1}^{N}w_k^{'}f\\left(x_k^{'}\\right) $$, where $w_k^{'}$ and $x_k^{'}$ are calculated using the $gaussmap$ function. I then use a `for` loop to add all the necessary terms to `intGQ1` and print out my results."
   ]
  },
  {
   "cell_type": "code",
   "execution_count": 9,
   "metadata": {},
   "outputs": [
    {
     "name": "stdout",
     "output_type": "stream",
     "text": [
      "Integral for Problem 1 using the Gaussian quadrature method:  1450.000000000002\n"
     ]
    }
   ],
   "source": [
    "def gaussmap(N,a,b):\n",
    "    x,w = gaussxw(N)\n",
    "    return 0.5*(b-a)*x+0.5*(b+a),0.5*(b-a)*w\n",
    "\n",
    "x_prime, w_prime = gaussmap(3,0,5)\n",
    "\n",
    "intGQ1 = 0\n",
    "for i in range(0,len(x_prime)):\n",
    "    intGQ1 += w_prime[i]*function1(x_prime[i])\n",
    "print(\"Integral for Problem 1 using the Gaussian quadrature method: \", intGQ1)"
   ]
  },
  {
   "cell_type": "markdown",
   "metadata": {
    "colab_type": "text",
    "id": "HceOjNu-VfN9"
   },
   "source": [
    "### PROBLEM 4 (30 pts.)\n",
    "\n",
    "**Physics Application: Anharmonic Oscillator**\n",
    "\n",
    "_Refer to Exercise 5.10 of the Newman text._ Consider an anharmonic oscillator with potential $V(x)$ symmetric about $x = 0$. Let us set our anharmonic oscillator going with amplitude $a$. That is, at $t = 0$ we release it from rest at position $x = a$ and it swings back towards the origin. Then at $t = 0$ we have $dx/dt = 0$ and the equation for its total energy becomes $E = V(a)$, i.e., the total energy of the particle is given in terms of the amplitude.\n",
    "\n",
    "When the particle reaches the origin for the first time, it has gone through one quarter of a period of the oscillator. The period $T$ is given by: $$ T = \\sqrt{8m} \\int_0^a \\frac{dx}{\\sqrt{V(a)-V(x)}}. $$\n",
    "\n",
    "1. Suppose the potential is $V(x) = x^4$ and the mass of the particle is $m = 1$. Write a Python function that calculates the period of the oscillator for given amplitude a using Gaussian quadrature with $N = 20$ points. Describe each step clearly and concisely. *(16 pts.; 8 pts. for the code & 8 pts. for the discussion text)*\n",
    "\n",
    "2. Use your function to make a graph of the period for amplitudes ranging from $a = 0$ to $a = 2$. Describe the behavior you find and explain these results clearly and concisely. *(14 pts.; 7 pts. for the plot & 7 pts. for the discussion text)*"
   ]
  },
  {
   "cell_type": "markdown",
   "metadata": {},
   "source": [
    "1. Here, I've written a function named `function3` to stand in for the integrand of the equation above. I then define a function named `period` with the parameter `a`. The `period` function maps the weights and appropriate x values using the `gaussmap` function for $N = 20$ slices, from 0 to an argument `a`. Afterwards, the integral is calculated using the Gaussian quadrature method and summed to `intGQ2`. The function then returns `intGQ2` multiplied by the constant $\\sqrt{8m}$."
   ]
  },
  {
   "cell_type": "code",
   "execution_count": 10,
   "metadata": {
    "colab": {},
    "colab_type": "code",
    "id": "p28JF-OQYock"
   },
   "outputs": [],
   "source": [
    "from numpy import sqrt, linspace\n",
    "\n",
    "def function3(x,a):\n",
    "    return sqrt(a**4 - x**4)**-1\n",
    "\n",
    "def period(a):\n",
    "    m = 1\n",
    "    x_prime, w_prime = gaussmap(20,0,a)\n",
    "    intGQ2 = 0\n",
    "    for i in range(0,len(x_prime)):\n",
    "        intGQ2 += w_prime[i]*function3(x_prime[i],a)\n",
    "    return sqrt(8*m)*intGQ2\n"
   ]
  },
  {
   "cell_type": "markdown",
   "metadata": {},
   "source": [
    "2. I then calculate $16$ equally spaced values for the amplitude $a$ from $0$ to $2$ using the `linspace` function to set as x values for the graph. I pass each x value into the `period` function to calculate the associated period for `a`. I then construct the graph of period vs amplitude.\n",
    "\n",
    "    From the graph, it can be clearly seen that as amplitude increases, the period of the Anharmonic Oscillator decreases. This is interesting, because in a simple harmonic oscillator, the period does not depend at all on the amplitude of the wave."
   ]
  },
  {
   "cell_type": "code",
   "execution_count": 11,
   "metadata": {},
   "outputs": [
    {
     "name": "stderr",
     "output_type": "stream",
     "text": [
      "c:\\users\\hydroforth\\appdata\\local\\programs\\python\\python37\\lib\\site-packages\\ipykernel_launcher.py:4: RuntimeWarning: divide by zero encountered in double_scalars\n",
      "  after removing the cwd from sys.path.\n",
      "c:\\users\\hydroforth\\appdata\\local\\programs\\python\\python37\\lib\\site-packages\\ipykernel_launcher.py:11: RuntimeWarning: invalid value encountered in double_scalars\n",
      "  # This is added back by InteractiveShellApp.init_path()\n"
     ]
    },
    {
     "data": {
      "text/plain": [
       "Text(0, 0.5, 'Period (T)')"
      ]
     },
     "execution_count": 11,
     "metadata": {},
     "output_type": "execute_result"
    },
    {
     "data": {
      "image/png": "[encoded data removed]",
      "text/plain": [
       "<Figure size 432x288 with 1 Axes>"
      ]
     },
     "metadata": {
      "needs_background": "light"
     },
     "output_type": "display_data"
    }
   ],
   "source": [
    "%matplotlib inline\n",
    "import matplotlib.pyplot as plt\n",
    "x_a = linspace(0,2,16)\n",
    "y_period = []\n",
    "for i in range(0,16):\n",
    "    y_period.append(period(x_a[i]))\n",
    "\n",
    "plt.scatter(x_a,y_period)\n",
    "plt.plot(x_a,y_period)\n",
    "plt.title(\"Anharmonic Oscillator: Period vs Amplitude\")\n",
    "plt.xlabel(\"Amplitude (a)\")\n",
    "plt.ylabel(\"Period (T)\")"
   ]
  },
  {
   "cell_type": "markdown",
   "metadata": {
    "colab_type": "text",
    "id": "BY5x-mZsYoqG"
   },
   "source": [
    "### PROBLEM 5 (20 pts.)\n",
    "\n",
    "**Differentiation using central difference**\n",
    "\n",
    "1. Calculate the derivative of the function $1 + \\frac{1}{2} \\tanh 2x$ in the range $-2 \\le x \\le 2$ using central difference. Describe each step of the calculation clearly and concisely. *(10 pts.; 5 pts. for the code & 5 pts. for the discussion text)*\n",
    "\n",
    "2. Calculate an analytic formula for the derivative and make a graph with your numerical result and the analytic answer on the same plot. Plot the exact answer as lines and the numerical one as dots. Describe how the two results compare. *(10 pts.; 5 pts. for the code & 5 pts. for the discussion text)*"
   ]
  },
  {
   "cell_type": "markdown",
   "metadata": {},
   "source": [
    "1. Here I've defined a function called `function4` to stand in for the mathematical function $1 + \\frac{1}{2}\\tanh 2x$. I then defined a function called `centralDiff` which takes in the arguments `x`, `h`, and `function`. The variable `x` is the point upon which we will be taking the central difference about `h` for a given function `function`. The `centralDiff` function calculates the central difference using the equation $$\\frac{df}{dx} = \\frac{f \\left(x + \\frac{h}{2} \\right) - f \\left( x - \\frac{h}{2} \\right)}{h}$$ \n",
    "    and then returns it.\n",
    "    \n",
    "    I set my `h` close to zero with a value of $0.00001$. I then create a set of $100$ equally spaced values from $-2$ to $2$ under the list `x_set`. I then calculate the derivative of the function above<sub>[1]</sub> for ever value in `x_set` and append it to the list `y_cd`.\n",
    "    \n",
    "    <sub>[1] To calculate the derivative, I pass on each value of `x_set` with `h` and `function4` to the `centralDiff` function.</sub>"
   ]
  },
  {
   "cell_type": "code",
   "execution_count": 12,
   "metadata": {
    "colab": {},
    "colab_type": "code",
    "id": "Jiu5YAx6aMmq"
   },
   "outputs": [],
   "source": [
    "from numpy import tanh\n",
    "\n",
    "def function4(x):\n",
    "    y = 1 + 0.5*tanh(2*x)\n",
    "    return y\n",
    "\n",
    "def centralDiff(x,h,function):\n",
    "    return (function(x+(h*0.5)) - function(x-(h/2)))/h\n",
    "\n",
    "h = 0.00001\n",
    "x_set = linspace(-2,2,100)\n",
    "y_cd = []\n",
    "for i in range(0,len(x_set)):\n",
    "    y_cd.append(centralDiff(x_set[i],h,function4))"
   ]
  },
  {
   "cell_type": "markdown",
   "metadata": {},
   "source": [
    "2. Here, I've defined a function called `analfunction4` to stand in as the analytic formula of the derivative of the mathematical function above, i.e. $1 - \\tanh^2(2x)$. I then pass on each value of `x_set` to `analfunction4` and append each returned result to the list `y_theo`. I then graphed the  numerical answers calculated using the central diff as red dots, and the analytically computed answers as the blue line."
   ]
  },
  {
   "cell_type": "code",
   "execution_count": 13,
   "metadata": {},
   "outputs": [
    {
     "data": {
      "image/png": "[encoded data removed]",
      "text/plain": [
       "<Figure size 432x288 with 1 Axes>"
      ]
     },
     "metadata": {
      "needs_background": "light"
     },
     "output_type": "display_data"
    }
   ],
   "source": [
    "def analfunction4(x):\n",
    "    y = 1 - tanh(2*x)**2\n",
    "    return y\n",
    "y_theo = []\n",
    "for i in range(0,len(x_set)):\n",
    "    y_theo.append(analfunction4(x_set[i]))\n",
    "\n",
    "#create the graph\n",
    "fig3 = plt.figure()\n",
    "ax3 = fig3.add_subplot(111)\n",
    "\n",
    "ax3.set_xlabel(\"x\")\n",
    "ax3.set_ylabel(\"y\")\n",
    "ax3.scatter(x_set,y_cd, s = 10, c = \"r\", label = \"Central Difference\")\n",
    "ax3.plot(x_set,y_theo, c = 'b', label = \"Analytical Formula\")\n",
    "    \n",
    "plt.legend(loc = \"upper left\")\n",
    "plt.title(\"Comparison of Central Difference Derivative vs Analytical Formula\")\n",
    "plt.show()\n"
   ]
  }
 ],
 "metadata": {
  "colab": {
   "authorship_tag": "ABX9TyPSuJbs/vagEh3+73Nx1fhV",
   "name": "lab_assignment_module2.ipynb",
   "provenance": []
  },
  "kernelspec": {
   "display_name": "Python 3",
   "language": "python",
   "name": "python3"
  },
  "language_info": {
   "codemirror_mode": {
    "name": "ipython",
    "version": 3
   },
   "file_extension": ".py",
   "mimetype": "text/x-python",
   "name": "python",
   "nbconvert_exporter": "python",
   "pygments_lexer": "ipython3",
   "version": "3.7.7"
  }
 },
 "nbformat": 4,
 "nbformat_minor": 1
}
